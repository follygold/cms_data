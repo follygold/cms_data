{
 "cells": [
  {
   "cell_type": "code",
   "execution_count": 1,
   "id": "681a8980",
   "metadata": {},
   "outputs": [],
   "source": [
    "import pandas as pd\n",
    "import numpy as np\n"
   ]
  },
  {
   "cell_type": "code",
   "execution_count": 2,
   "id": "dcd37fae",
   "metadata": {},
   "outputs": [
    {
     "name": "stdout",
     "output_type": "stream",
     "text": [
      "  Name  Score\n",
      "0    a     90\n",
      "1    b     80\n",
      "2    c     95\n",
      "3    d     20\n"
     ]
    }
   ],
   "source": [
    "import pandas as pd\n",
    "\n",
    "name_dict = {\n",
    "            'Name': ['a','b','c','d'],\n",
    "            'Score': [90,80,95,20]\n",
    "          }\n",
    "\n",
    "df = pd.DataFrame(name_dict)\n",
    "\n",
    "print (df)"
   ]
  },
  {
   "cell_type": "code",
   "execution_count": 6,
   "id": "2826db3b",
   "metadata": {},
   "outputs": [],
   "source": [
    "df.to_csv(\"Hello.csv\")"
   ]
  },
  {
   "cell_type": "code",
   "execution_count": null,
   "id": "d6f4f80c",
   "metadata": {},
   "outputs": [],
   "source": []
  }
 ],
 "metadata": {
  "kernelspec": {
   "display_name": "Python 3",
   "language": "python",
   "name": "python3"
  },
  "language_info": {
   "codemirror_mode": {
    "name": "ipython",
    "version": 3
   },
   "file_extension": ".py",
   "mimetype": "text/x-python",
   "name": "python",
   "nbconvert_exporter": "python",
   "pygments_lexer": "ipython3",
   "version": "3.8.8"
  }
 },
 "nbformat": 4,
 "nbformat_minor": 5
}
